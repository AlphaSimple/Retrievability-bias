{
 "cells": [
  {
   "cell_type": "markdown",
   "metadata": {},
   "source": [
    "## Retrievability Experiment on TREC678"
   ]
  },
  {
   "cell_type": "markdown",
   "metadata": {},
   "source": [
    "## Query Expansion: RM3"
   ]
  },
  {
   "cell_type": "code",
   "execution_count": 1,
   "metadata": {},
   "outputs": [],
   "source": [
    "import lucene\n",
    "from org.apache.lucene.search import IndexSearcher\n",
    "from org.apache.lucene.index import DirectoryReader\n",
    "from org.apache.lucene.index import MultiTerms\n",
    "from org.apache.lucene.store import FSDirectory\n",
    "from org.apache.lucene.queryparser.classic import QueryParser\n",
    "from org.apache.lucene.search.similarities import BM25Similarity\n",
    "from org.apache.lucene.search.similarities import ClassicSimilarity\n",
    "from org.apache.lucene.search.similarities import LMJelinekMercerSimilarity\n",
    "from org.apache.lucene.search.similarities import LMDirichletSimilarity\n",
    "from org.apache.lucene.analysis.en import EnglishAnalyzer\n",
    "from java.io import File\n",
    "\n",
    "from org.apache.lucene.search import BooleanQuery\n",
    "from org.apache.lucene.search import BooleanClause\n",
    "from org.apache.lucene.search import TermQuery\n",
    "from org.apache.lucene.search import BoostQuery\n",
    "from org.apache.lucene.index import Term\n",
    "\n",
    "from org.apache.lucene.util import BytesRefIterator"
   ]
  },
  {
   "cell_type": "code",
   "execution_count": 2,
   "metadata": {},
   "outputs": [
    {
     "data": {
      "text/plain": [
       "<jcc.JCCEnv at 0x7f56a05f5850>"
      ]
     },
     "execution_count": 2,
     "metadata": {},
     "output_type": "execute_result"
    }
   ],
   "source": [
    "# initializes lucene virtual machine\n",
    "lucene.initVM()"
   ]
  },
  {
   "cell_type": "code",
   "execution_count": 3,
   "metadata": {},
   "outputs": [],
   "source": [
    "# Lucene index of the corpus\n",
    "index_path = '../index/'\n",
    "directory = FSDirectory.open(File(index_path).toPath())\n",
    "indexReader = DirectoryReader.open(directory)\n",
    "\n",
    "FIELDNAME = 'CONTENT'       # Lucene index field name\n",
    "N = 528155                  # no. docs in TREC678 or in the index"
   ]
  },
  {
   "cell_type": "code",
   "execution_count": 4,
   "metadata": {},
   "outputs": [],
   "source": [
    "from collections import Counter\n",
    "import pickle\n",
    "import nltk"
   ]
  },
  {
   "cell_type": "markdown",
   "metadata": {},
   "source": [
    "### RM3"
   ]
  },
  {
   "cell_type": "code",
   "execution_count": 1,
   "metadata": {},
   "outputs": [
    {
     "ename": "JavaException",
     "evalue": "JVM exception occurred: org/apache/lucene/search/Query has been compiled by a more recent version of the Java Runtime (class file version 55.0), this version of the Java Runtime only recognizes class file versions up to 52.0 java.lang.UnsupportedClassVersionError",
     "output_type": "error",
     "traceback": [
      "\u001b[0;31m---------------------------------------------------------------------------\u001b[0m",
      "\u001b[0;31mJavaException\u001b[0m                             Traceback (most recent call last)",
      "Cell \u001b[0;32mIn [1], line 1\u001b[0m\n\u001b[0;32m----> 1\u001b[0m \u001b[39mfrom\u001b[39;00m \u001b[39mpyserini\u001b[39;00m\u001b[39m.\u001b[39;00m\u001b[39msearch\u001b[39;00m \u001b[39mimport\u001b[39;00m Searcher\n\u001b[1;32m      3\u001b[0m searcher \u001b[39m=\u001b[39m SimpleSearcher(\u001b[39m'\u001b[39m\u001b[39m../index/\u001b[39m\u001b[39m'\u001b[39m)\n\u001b[1;32m      4\u001b[0m hits \u001b[39m=\u001b[39m searcher\u001b[39m.\u001b[39msearch(\u001b[39m'\u001b[39m\u001b[39mhubble space telescope\u001b[39m\u001b[39m'\u001b[39m)\n",
      "File \u001b[0;32m~/.local/lib/python3.10/site-packages/pyserini/search/__init__.py:17\u001b[0m\n\u001b[1;32m      1\u001b[0m \u001b[39m#\u001b[39;00m\n\u001b[1;32m      2\u001b[0m \u001b[39m# Pyserini: Reproducible IR research with sparse and dense representations\u001b[39;00m\n\u001b[1;32m      3\u001b[0m \u001b[39m#\u001b[39;00m\n\u001b[0;32m   (...)\u001b[0m\n\u001b[1;32m     14\u001b[0m \u001b[39m# limitations under the License.\u001b[39;00m\n\u001b[1;32m     15\u001b[0m \u001b[39m#\u001b[39;00m\n\u001b[0;32m---> 17\u001b[0m \u001b[39mfrom\u001b[39;00m \u001b[39m.\u001b[39;00m\u001b[39m_base\u001b[39;00m \u001b[39mimport\u001b[39;00m JQuery, JQueryGenerator, JDisjunctionMaxQueryGenerator, get_topics,\\\n\u001b[1;32m     18\u001b[0m     get_topics_with_reader, get_qrels_file, get_qrels\n\u001b[1;32m     19\u001b[0m \u001b[39mfrom\u001b[39;00m \u001b[39m.\u001b[39;00m\u001b[39mlucene\u001b[39;00m \u001b[39mimport\u001b[39;00m JLuceneSearcherResult, LuceneSimilarities, LuceneFusionSearcher, LuceneSearcher\n\u001b[1;32m     20\u001b[0m \u001b[39mfrom\u001b[39;00m \u001b[39m.\u001b[39;00m\u001b[39mlucene\u001b[39;00m \u001b[39mimport\u001b[39;00m JImpactSearcherResult, LuceneImpactSearcher\n",
      "File \u001b[0;32m~/.local/lib/python3.10/site-packages/pyserini/search/_base.py:31\u001b[0m\n\u001b[1;32m     28\u001b[0m logger \u001b[39m=\u001b[39m logging\u001b[39m.\u001b[39mgetLogger(\u001b[39m__name__\u001b[39m)\n\u001b[1;32m     30\u001b[0m \u001b[39m# Wrappers around Lucene classes\u001b[39;00m\n\u001b[0;32m---> 31\u001b[0m JQuery \u001b[39m=\u001b[39m autoclass(\u001b[39m'\u001b[39;49m\u001b[39morg.apache.lucene.search.Query\u001b[39;49m\u001b[39m'\u001b[39;49m)\n\u001b[1;32m     33\u001b[0m \u001b[39m# Wrappers around Anserini classes\u001b[39;00m\n\u001b[1;32m     34\u001b[0m JQrels \u001b[39m=\u001b[39m autoclass(\u001b[39m'\u001b[39m\u001b[39mio.anserini.eval.Qrels\u001b[39m\u001b[39m'\u001b[39m)\n",
      "File \u001b[0;32m~/.local/lib/python3.10/site-packages/jnius/reflect.py:211\u001b[0m, in \u001b[0;36mautoclass\u001b[0;34m(clsname, include_protected, include_private)\u001b[0m\n\u001b[1;32m    208\u001b[0m cls_start_packagename \u001b[39m=\u001b[39m \u001b[39m'\u001b[39m\u001b[39m.\u001b[39m\u001b[39m'\u001b[39m\u001b[39m.\u001b[39mjoin(clsname\u001b[39m.\u001b[39msplit(\u001b[39m'\u001b[39m\u001b[39m.\u001b[39m\u001b[39m'\u001b[39m)[:\u001b[39m-\u001b[39m\u001b[39m1\u001b[39m])\n\u001b[1;32m    210\u001b[0m \u001b[39m# c = Class.forName(clsname)\u001b[39;00m\n\u001b[0;32m--> 211\u001b[0m c \u001b[39m=\u001b[39m find_javaclass(clsname)\n\u001b[1;32m    212\u001b[0m \u001b[39mif\u001b[39;00m c \u001b[39mis\u001b[39;00m \u001b[39mNone\u001b[39;00m:\n\u001b[1;32m    213\u001b[0m     \u001b[39mraise\u001b[39;00m \u001b[39mException\u001b[39;00m(\u001b[39m'\u001b[39m\u001b[39mJava class \u001b[39m\u001b[39m{0}\u001b[39;00m\u001b[39m not found\u001b[39m\u001b[39m'\u001b[39m\u001b[39m.\u001b[39mformat(c))\n",
      "File \u001b[0;32mjnius/jnius_export_func.pxi:26\u001b[0m, in \u001b[0;36mjnius.find_javaclass\u001b[0;34m()\u001b[0m\n",
      "File \u001b[0;32mjnius/jnius_utils.pxi:91\u001b[0m, in \u001b[0;36mjnius.check_exception\u001b[0;34m()\u001b[0m\n",
      "\u001b[0;31mJavaException\u001b[0m: JVM exception occurred: org/apache/lucene/search/Query has been compiled by a more recent version of the Java Runtime (class file version 55.0), this version of the Java Runtime only recognizes class file versions up to 52.0 java.lang.UnsupportedClassVersionError"
     ]
    }
   ],
   "source": [
    "from pyserini.search import Searcher\n",
    "\n",
    "searcher = SimpleSearcher('../index/')\n",
    "hits = searcher.search('hubble space telescope')\n",
    "\n",
    "# Print the first 10 hits:\n",
    "for i in range(0, 10):\n",
    "    print(f'{i+1:2} {hits[i].docid:15} {hits[i].score:.5f}')"
   ]
  },
  {
   "attachments": {},
   "cell_type": "markdown",
   "metadata": {},
   "source": [
    "---\n",
    "##### Incomplete notebook! Transitioning to writing a python script that will be run on IISER-K Dirac Supercomputer (because running RM3 Retrievability experiment on desktop will take very long time)"
   ]
  }
 ],
 "metadata": {
  "kernelspec": {
   "display_name": "Python 3.10.6 64-bit",
   "language": "python",
   "name": "python3"
  },
  "language_info": {
   "codemirror_mode": {
    "name": "ipython",
    "version": 3
   },
   "file_extension": ".py",
   "mimetype": "text/x-python",
   "name": "python",
   "nbconvert_exporter": "python",
   "pygments_lexer": "ipython3",
   "version": "3.10.6 (main, Nov 14 2022, 16:10:14) [GCC 11.3.0]"
  },
  "orig_nbformat": 4,
  "vscode": {
   "interpreter": {
    "hash": "916dbcbb3f70747c44a77c7bcd40155683ae19c65e1c03b4aa3499c5328201f1"
   }
  }
 },
 "nbformat": 4,
 "nbformat_minor": 2
}
