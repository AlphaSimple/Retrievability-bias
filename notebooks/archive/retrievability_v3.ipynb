{
 "cells": [
  {
   "cell_type": "markdown",
   "metadata": {},
   "source": [
    "## Retrievability Experiment on TREC678"
   ]
  },
  {
   "cell_type": "markdown",
   "metadata": {},
   "source": [
    "## Query Expansion: RM3"
   ]
  },
  {
   "cell_type": "code",
   "execution_count": 1,
   "metadata": {},
   "outputs": [],
   "source": [
    "import lucene\n",
    "from org.apache.lucene.search import IndexSearcher\n",
    "from org.apache.lucene.index import DirectoryReader\n",
    "from org.apache.lucene.index import MultiTerms\n",
    "from org.apache.lucene.store import FSDirectory\n",
    "from org.apache.lucene.queryparser.classic import QueryParser\n",
    "from org.apache.lucene.search.similarities import BM25Similarity\n",
    "from org.apache.lucene.search.similarities import ClassicSimilarity\n",
    "from org.apache.lucene.search.similarities import LMJelinekMercerSimilarity\n",
    "from org.apache.lucene.search.similarities import LMDirichletSimilarity\n",
    "from org.apache.lucene.analysis.en import EnglishAnalyzer\n",
    "from java.io import File\n",
    "\n",
    "from org.apache.lucene.search import BooleanQuery\n",
    "from org.apache.lucene.search import BooleanClause\n",
    "from org.apache.lucene.search import TermQuery\n",
    "from org.apache.lucene.search import BoostQuery\n",
    "from org.apache.lucene.index import Term\n",
    "\n",
    "from org.apache.lucene.util import BytesRefIterator"
   ]
  },
  {
   "cell_type": "code",
   "execution_count": 2,
   "metadata": {},
   "outputs": [
    {
     "data": {
      "text/plain": [
       "<jcc.JCCEnv at 0x7f56a05f5850>"
      ]
     },
     "execution_count": 2,
     "metadata": {},
     "output_type": "execute_result"
    }
   ],
   "source": [
    "# initializes lucene virtual machine\n",
    "lucene.initVM()"
   ]
  },
  {
   "cell_type": "code",
   "execution_count": 3,
   "metadata": {},
   "outputs": [],
   "source": [
    "# Lucene index of the corpus\n",
    "index_path = '../index/'\n",
    "directory = FSDirectory.open(File(index_path).toPath())\n",
    "indexReader = DirectoryReader.open(directory)\n",
    "\n",
    "FIELDNAME = 'CONTENT'       # Lucene index field name\n",
    "N = 528155                  # no. docs in TREC678 or in the index"
   ]
  },
  {
   "cell_type": "code",
   "execution_count": 4,
   "metadata": {},
   "outputs": [],
   "source": [
    "from collections import Counter\n",
    "import pickle\n",
    "import nltk"
   ]
  },
  {
   "cell_type": "markdown",
   "metadata": {},
   "source": [
    "### RM3"
   ]
  },
  {
   "cell_type": "code",
   "execution_count": 5,
   "metadata": {},
   "outputs": [
    {
     "ename": "SystemError",
     "evalue": "JVM failed to start: -5",
     "output_type": "error",
     "traceback": [
      "\u001b[0;31m---------------------------------------------------------------------------\u001b[0m",
      "\u001b[0;31mSystemError\u001b[0m                               Traceback (most recent call last)",
      "Cell \u001b[0;32mIn [5], line 1\u001b[0m\n\u001b[0;32m----> 1\u001b[0m \u001b[39mfrom\u001b[39;00m \u001b[39mpyserini\u001b[39;00m\u001b[39m.\u001b[39;00m\u001b[39msearch\u001b[39;00m \u001b[39mimport\u001b[39;00m SimpleSearcher\n\u001b[1;32m      3\u001b[0m searcher \u001b[39m=\u001b[39m SimpleSearcher(\u001b[39m'\u001b[39m\u001b[39m../index/\u001b[39m\u001b[39m'\u001b[39m)\n\u001b[1;32m      4\u001b[0m hits \u001b[39m=\u001b[39m searcher\u001b[39m.\u001b[39msearch(\u001b[39m'\u001b[39m\u001b[39mhubble space telescope\u001b[39m\u001b[39m'\u001b[39m)\n",
      "File \u001b[0;32m~/.local/lib/python3.10/site-packages/pyserini/search/__init__.py:17\u001b[0m\n\u001b[1;32m      1\u001b[0m \u001b[39m#\u001b[39;00m\n\u001b[1;32m      2\u001b[0m \u001b[39m# Pyserini: Reproducible IR research with sparse and dense representations\u001b[39;00m\n\u001b[1;32m      3\u001b[0m \u001b[39m#\u001b[39;00m\n\u001b[0;32m   (...)\u001b[0m\n\u001b[1;32m     14\u001b[0m \u001b[39m# limitations under the License.\u001b[39;00m\n\u001b[1;32m     15\u001b[0m \u001b[39m#\u001b[39;00m\n\u001b[0;32m---> 17\u001b[0m \u001b[39mfrom\u001b[39;00m \u001b[39m.\u001b[39;00m\u001b[39m_base\u001b[39;00m \u001b[39mimport\u001b[39;00m JQuery, JQueryGenerator, JDisjunctionMaxQueryGenerator, get_topics,\\\n\u001b[1;32m     18\u001b[0m     get_topics_with_reader, get_qrels_file, get_qrels\n\u001b[1;32m     19\u001b[0m \u001b[39mfrom\u001b[39;00m \u001b[39m.\u001b[39;00m\u001b[39mlucene\u001b[39;00m \u001b[39mimport\u001b[39;00m JLuceneSearcherResult, LuceneSimilarities, LuceneFusionSearcher, LuceneSearcher\n\u001b[1;32m     20\u001b[0m \u001b[39mfrom\u001b[39;00m \u001b[39m.\u001b[39;00m\u001b[39mlucene\u001b[39;00m \u001b[39mimport\u001b[39;00m JImpactSearcherResult, LuceneImpactSearcher\n",
      "File \u001b[0;32m~/.local/lib/python3.10/site-packages/pyserini/search/_base.py:26\u001b[0m\n\u001b[1;32m     23\u001b[0m \u001b[39mimport\u001b[39;00m \u001b[39mos\u001b[39;00m\n\u001b[1;32m     25\u001b[0m \u001b[39mfrom\u001b[39;00m \u001b[39mpyserini\u001b[39;00m\u001b[39m.\u001b[39;00m\u001b[39mutil\u001b[39;00m \u001b[39mimport\u001b[39;00m get_cache_home\n\u001b[0;32m---> 26\u001b[0m \u001b[39mfrom\u001b[39;00m \u001b[39mpyserini\u001b[39;00m\u001b[39m.\u001b[39;00m\u001b[39mpyclass\u001b[39;00m \u001b[39mimport\u001b[39;00m autoclass\n\u001b[1;32m     28\u001b[0m logger \u001b[39m=\u001b[39m logging\u001b[39m.\u001b[39mgetLogger(\u001b[39m__name__\u001b[39m)\n\u001b[1;32m     30\u001b[0m \u001b[39m# Wrappers around Lucene classes\u001b[39;00m\n",
      "File \u001b[0;32m~/.local/lib/python3.10/site-packages/pyserini/pyclass.py:27\u001b[0m\n\u001b[1;32m     23\u001b[0m \u001b[39m# If the environment variable isn't defined, look in the current directory.\u001b[39;00m\n\u001b[1;32m     24\u001b[0m configure_classpath(os\u001b[39m.\u001b[39menviron[\u001b[39m'\u001b[39m\u001b[39mANSERINI_CLASSPATH\u001b[39m\u001b[39m'\u001b[39m] \u001b[39mif\u001b[39;00m \u001b[39m'\u001b[39m\u001b[39mANSERINI_CLASSPATH\u001b[39m\u001b[39m'\u001b[39m \u001b[39min\u001b[39;00m os\u001b[39m.\u001b[39menviron \u001b[39melse\u001b[39;00m\n\u001b[1;32m     25\u001b[0m                     os\u001b[39m.\u001b[39mpath\u001b[39m.\u001b[39mjoin(os\u001b[39m.\u001b[39mpath\u001b[39m.\u001b[39msplit(\u001b[39m__file__\u001b[39m)[\u001b[39m0\u001b[39m], \u001b[39m'\u001b[39m\u001b[39mresources/jars/\u001b[39m\u001b[39m'\u001b[39m))\n\u001b[0;32m---> 27\u001b[0m \u001b[39mfrom\u001b[39;00m \u001b[39mjnius\u001b[39;00m \u001b[39mimport\u001b[39;00m autoclass, cast\n\u001b[1;32m     29\u001b[0m \u001b[39m# Base Java classes\u001b[39;00m\n\u001b[1;32m     30\u001b[0m JString \u001b[39m=\u001b[39m autoclass(\u001b[39m'\u001b[39m\u001b[39mjava.lang.String\u001b[39m\u001b[39m'\u001b[39m)\n",
      "File \u001b[0;32m~/.local/lib/python3.10/site-packages/jnius/__init__.py:45\u001b[0m\n\u001b[1;32m     43\u001b[0m \u001b[39melse\u001b[39;00m:\n\u001b[1;32m     44\u001b[0m     \u001b[39mfrom\u001b[39;00m \u001b[39m.\u001b[39;00m\u001b[39mjnius\u001b[39;00m \u001b[39mimport\u001b[39;00m \u001b[39m*\u001b[39m  \u001b[39m# noqa\u001b[39;00m\n\u001b[0;32m---> 45\u001b[0m     \u001b[39mfrom\u001b[39;00m \u001b[39m.\u001b[39;00m\u001b[39mreflect\u001b[39;00m \u001b[39mimport\u001b[39;00m \u001b[39m*\u001b[39m  \u001b[39m# noqa\u001b[39;00m\n\u001b[1;32m     47\u001b[0m \u001b[39mfrom\u001b[39;00m \u001b[39msix\u001b[39;00m \u001b[39mimport\u001b[39;00m with_metaclass\n\u001b[1;32m     49\u001b[0m \u001b[39m# XXX monkey patch methods that cannot be in cython.\u001b[39;00m\n\u001b[1;32m     50\u001b[0m \u001b[39m# Cython doesn't allow to set new attribute on methods it compiled\u001b[39;00m\n",
      "File \u001b[0;32m~/.local/lib/python3.10/site-packages/jnius/reflect.py:20\u001b[0m\n\u001b[1;32m     15\u001b[0m __all__ \u001b[39m=\u001b[39m (\u001b[39m'\u001b[39m\u001b[39mautoclass\u001b[39m\u001b[39m'\u001b[39m, \u001b[39m'\u001b[39m\u001b[39mensureclass\u001b[39m\u001b[39m'\u001b[39m, \u001b[39m'\u001b[39m\u001b[39mprotocol_map\u001b[39m\u001b[39m'\u001b[39m)\n\u001b[1;32m     17\u001b[0m log \u001b[39m=\u001b[39m getLogger(\u001b[39m__name__\u001b[39m)\n\u001b[0;32m---> 20\u001b[0m \u001b[39mclass\u001b[39;00m \u001b[39mClass\u001b[39;00m(with_metaclass(MetaJavaClass, JavaClass)):\n\u001b[1;32m     21\u001b[0m     __javaclass__ \u001b[39m=\u001b[39m \u001b[39m'\u001b[39m\u001b[39mjava/lang/Class\u001b[39m\u001b[39m'\u001b[39m\n\u001b[1;32m     23\u001b[0m     desiredAssertionStatus \u001b[39m=\u001b[39m JavaMethod(\u001b[39m'\u001b[39m\u001b[39m()Z\u001b[39m\u001b[39m'\u001b[39m)\n",
      "File \u001b[0;32m/usr/lib/python3/dist-packages/six.py:872\u001b[0m, in \u001b[0;36mwith_metaclass.<locals>.metaclass.__new__\u001b[0;34m(cls, name, this_bases, d)\u001b[0m\n\u001b[1;32m    870\u001b[0m \u001b[39melse\u001b[39;00m:\n\u001b[1;32m    871\u001b[0m     resolved_bases \u001b[39m=\u001b[39m bases\n\u001b[0;32m--> 872\u001b[0m \u001b[39mreturn\u001b[39;00m meta(name, resolved_bases, d)\n",
      "File \u001b[0;32mjnius/jnius_export_class.pxi:119\u001b[0m, in \u001b[0;36mjnius.MetaJavaClass.__new__\u001b[0;34m()\u001b[0m\n",
      "File \u001b[0;32mjnius/jnius_export_class.pxi:179\u001b[0m, in \u001b[0;36mjnius.MetaJavaClass.resolve_class\u001b[0;34m()\u001b[0m\n",
      "File \u001b[0;32mjnius/jnius_env.pxi:11\u001b[0m, in \u001b[0;36mjnius.get_jnienv\u001b[0;34m()\u001b[0m\n",
      "File \u001b[0;32mjnius/jnius_jvm_dlopen.pxi:102\u001b[0m, in \u001b[0;36mjnius.get_platform_jnienv\u001b[0;34m()\u001b[0m\n",
      "File \u001b[0;32mjnius/jnius_jvm_dlopen.pxi:94\u001b[0m, in \u001b[0;36mjnius.create_jnienv\u001b[0;34m()\u001b[0m\n",
      "\u001b[0;31mSystemError\u001b[0m: JVM failed to start: -5"
     ]
    }
   ],
   "source": [
    "from pyserini.search import SimpleSearcher\n",
    "\n",
    "searcher = SimpleSearcher('../index/')\n",
    "hits = searcher.search('hubble space telescope')\n",
    "\n",
    "# Print the first 10 hits:\n",
    "for i in range(0, 10):\n",
    "    print(f'{i+1:2} {hits[i].docid:15} {hits[i].score:.5f}')"
   ]
  }
 ],
 "metadata": {
  "kernelspec": {
   "display_name": "Python 3.10.6 64-bit",
   "language": "python",
   "name": "python3"
  },
  "language_info": {
   "codemirror_mode": {
    "name": "ipython",
    "version": 3
   },
   "file_extension": ".py",
   "mimetype": "text/x-python",
   "name": "python",
   "nbconvert_exporter": "python",
   "pygments_lexer": "ipython3",
   "version": "3.10.6 (main, Nov 14 2022, 16:10:14) [GCC 11.3.0]"
  },
  "orig_nbformat": 4,
  "vscode": {
   "interpreter": {
    "hash": "916dbcbb3f70747c44a77c7bcd40155683ae19c65e1c03b4aa3499c5328201f1"
   }
  }
 },
 "nbformat": 4,
 "nbformat_minor": 2
}
