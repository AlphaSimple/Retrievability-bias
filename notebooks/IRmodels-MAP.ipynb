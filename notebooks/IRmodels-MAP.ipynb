{
 "cells": [
  {
   "cell_type": "code",
   "execution_count": 1,
   "metadata": {},
   "outputs": [],
   "source": [
    "topicFilePath = '../trec678-robust.xml'  # 250 queries\n",
    "\n",
    "import xml.etree.ElementTree as ET\n",
    "\n",
    "tree = ET.parse(topicFilePath)\n",
    "topics = tree.getroot()"
   ]
  },
  {
   "cell_type": "code",
   "execution_count": 2,
   "metadata": {},
   "outputs": [],
   "source": [
    "import lucene\n",
    "from org.apache.lucene.search import IndexSearcher\n",
    "from org.apache.lucene.index import DirectoryReader\n",
    "from org.apache.lucene.store import FSDirectory\n",
    "from org.apache.lucene.queryparser.classic import QueryParser\n",
    "from org.apache.lucene.search.similarities import BM25Similarity\n",
    "from org.apache.lucene.search.similarities import ClassicSimilarity\n",
    "from org.apache.lucene.search.similarities import LMDirichletSimilarity\n",
    "from org.apache.lucene.analysis.en import EnglishAnalyzer\n",
    "from java.io import File"
   ]
  },
  {
   "cell_type": "code",
   "execution_count": 3,
   "metadata": {},
   "outputs": [
    {
     "data": {
      "text/plain": [
       "<jcc.JCCEnv at 0x7f71b810e9d0>"
      ]
     },
     "execution_count": 3,
     "metadata": {},
     "output_type": "execute_result"
    }
   ],
   "source": [
    "lucene.initVM()"
   ]
  },
  {
   "cell_type": "code",
   "execution_count": 4,
   "metadata": {},
   "outputs": [],
   "source": [
    "index_path = '../index/'\n",
    "directory = FSDirectory.open(File(index_path).toPath())\n",
    "indexReader = DirectoryReader.open(directory)\n",
    "\n",
    "FIELDNAME = 'CONTENT'"
   ]
  },
  {
   "cell_type": "markdown",
   "metadata": {},
   "source": [
    "### TFIDF"
   ]
  },
  {
   "cell_type": "code",
   "execution_count": 5,
   "metadata": {},
   "outputs": [],
   "source": [
    "# setting up the searcher\n",
    "analyzer = EnglishAnalyzer()    # used same analyzer as indexer\n",
    "searcher = IndexSearcher(DirectoryReader.open(directory))\n",
    "\n",
    "queries = []\n",
    "for topic in topics:\n",
    "    qidField = 'num'\n",
    "    queryKeywordsField = 'title'     # other fields are 'desc'and 'narr'\n",
    "\n",
    "    qid = topic.find(qidField).text.strip()\n",
    "    q = topic.find(queryKeywordsField).text.strip()\n",
    "\n",
    "    escaped_q = QueryParser(FIELDNAME, analyzer).escape(q)      # a few titles had '/' in them which \n",
    "                                                                # EnglishAnalyzer was not able to parse\n",
    "                                                                # without escaping those special characters\n",
    "    query = QueryParser(FIELDNAME, analyzer).parse(escaped_q)\n",
    "    queries.append((qid,query))\n",
    "\n",
    "\n",
    "def tfidf():\n",
    "    model = 'tfidf'\n",
    "    similarityModel = ClassicSimilarity()\n",
    "    # setting the similarity model\n",
    "    searcher.setSimilarity(similarityModel)\n",
    "\n",
    "    # change result file path below\n",
    "    outputPath = f'./Models res files/TFIDF_678robust.res'\n",
    "    f = open(outputPath, 'w')\n",
    "\n",
    "    print(f'\\nTFIDF; retrieving...', end=' ')\n",
    "\n",
    "    # search on 250 queries from the topic file 'trec678-robust.xml'\n",
    "    for qid,query in queries:\n",
    "        # print(f'BM25, k1 = {k1}, b = {b}; qid = {qid}, retrieving & writing ...', end=' ')\n",
    "\n",
    "        # getting the top k search results using the searcher\n",
    "        k = 1000\n",
    "        scoreDocs = searcher.search(query, k).scoreDocs\n",
    "\n",
    "        # writing all k doc results in a .res file in trec format\n",
    "        rank = 0\n",
    "        for scoreDoc in scoreDocs:\n",
    "            rank += 1\n",
    "            doc = searcher.doc(scoreDoc.doc)\n",
    "            f.write(f\"{qid}\\tQ0\\t{doc.get('DOCID')}\\t{rank}\\t{scoreDoc.score}\\taman_{model}\\n\")\n",
    "\n",
    "    print('complete!')\n",
    "\n",
    "    f.close()\n",
    "    print('Search completed! Search results exported to a .res file in the current directory.\\n')\n",
    "    \n",
    "    \n",
    "def lmdir(mu):\n",
    "    model = 'lmdir'\n",
    "    similarityModel = LMDirichletSimilarity(mu)\n",
    "    # setting the similarity model\n",
    "    searcher.setSimilarity(similarityModel)\n",
    "\n",
    "    # change result file path below\n",
    "    outputPath = f'./Models res files/LMDir{mu}_678robust.res'\n",
    "    f = open(outputPath, 'w')\n",
    "\n",
    "    print(f'\\nLMDir, mu = {mu}; retrieving...', end=' ')\n",
    "\n",
    "    # search on 250 queries from the topic file 'trec678-robust.xml'\n",
    "    for qid,query in queries:\n",
    "        # print(f'BM25, k1 = {k1}, b = {b}; qid = {qid}, retrieving & writing ...', end=' ')\n",
    "\n",
    "        # getting the top k search results using the searcher\n",
    "        k = 1000\n",
    "        scoreDocs = searcher.search(query, k).scoreDocs\n",
    "\n",
    "        # writing all k doc results in a .res file in trec format\n",
    "        rank = 0\n",
    "        for scoreDoc in scoreDocs:\n",
    "            rank += 1\n",
    "            doc = searcher.doc(scoreDoc.doc)\n",
    "            f.write(f\"{qid}\\tQ0\\t{doc.get('DOCID')}\\t{rank}\\t{scoreDoc.score}\\taman_{model}_{mu}\\n\")\n",
    "\n",
    "    print('complete!')\n",
    "\n",
    "    f.close()\n",
    "    print('Search completed! Search results exported to a .res file in the current directory.\\n')"
   ]
  },
  {
   "cell_type": "code",
   "execution_count": 6,
   "metadata": {},
   "outputs": [
    {
     "name": "stdout",
     "output_type": "stream",
     "text": [
      "\n",
      "TFIDF; retrieving... complete!\n",
      "Search completed! Search results exported to a .res file in the current directory.\n",
      "\n",
      "\n",
      "LMDir, mu = 1000.0; retrieving... complete!\n",
      "Search completed! Search results exported to a .res file in the current directory.\n",
      "\n"
     ]
    }
   ],
   "source": [
    "tfidf()\n",
    "\n",
    "lmdir(mu=1000.0)"
   ]
  }
 ],
 "metadata": {
  "kernelspec": {
   "display_name": "Python 3.10.6 64-bit",
   "language": "python",
   "name": "python3"
  },
  "language_info": {
   "codemirror_mode": {
    "name": "ipython",
    "version": 3
   },
   "file_extension": ".py",
   "mimetype": "text/x-python",
   "name": "python",
   "nbconvert_exporter": "python",
   "pygments_lexer": "ipython3",
   "version": "3.10.6"
  },
  "orig_nbformat": 4,
  "vscode": {
   "interpreter": {
    "hash": "916dbcbb3f70747c44a77c7bcd40155683ae19c65e1c03b4aa3499c5328201f1"
   }
  }
 },
 "nbformat": 4,
 "nbformat_minor": 2
}
